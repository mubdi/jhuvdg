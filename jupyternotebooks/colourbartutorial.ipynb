{
 "cells": [
  {
   "cell_type": "markdown",
   "metadata": {},
   "source": [
    "# Making Custom Colourmaps for Matplotlib\n",
    "For the JHU Visualization Discussion Group: November 9, 2016"
   ]
  },
  {
   "cell_type": "markdown",
   "metadata": {},
   "source": [
    "In this notebook, we will go through how to create a custom colour bar for matplotlib. Please feel free to follow along. "
   ]
  },
  {
   "cell_type": "code",
   "execution_count": 44,
   "metadata": {
    "collapsed": true
   },
   "outputs": [],
   "source": [
    "# Required imports:\n",
    "import numpy as np\n",
    "import matplotlib.pyplot as plt\n",
    "import matplotlib.colors\n",
    "%matplotlib inline"
   ]
  },
  {
   "cell_type": "markdown",
   "metadata": {},
   "source": [
    "Creating an image to produce colour maps for:"
   ]
  },
  {
   "cell_type": "code",
   "execution_count": 46,
   "metadata": {
    "collapsed": false
   },
   "outputs": [
    {
     "data": {
      "text/plain": [
       "<matplotlib.image.AxesImage at 0x14dfe6a0>"
      ]
     },
     "execution_count": 46,
     "metadata": {},
     "output_type": "execute_result"
    },
    {
     "data": {
      "image/png": "[encoded data removed]",
      "text/plain": [
       "<matplotlib.figure.Figure at 0x14a3a128>"
      ]
     },
     "metadata": {},
     "output_type": "display_data"
    }
   ],
   "source": [
    "tmp_im = np.arange(600).reshape((-1, 1)) * np.ones(500).reshape((1,-1))\n",
    "plt.figure(figsize=(15, 10))\n",
    "plt.subplot(141)\n",
    "plt.imshow(tmp_im, origin='lower', interpolation='nearest', cmap=plt.cm.jet)\n",
    "plt.subplot(142)\n",
    "plt.imshow(tmp_im, origin='lower', interpolation='nearest', cmap=plt.cm.viridis)\n",
    "plt.subplot(143)\n",
    "plt.imshow(tmp_im, origin='lower', interpolation='nearest', cmap=plt.cm.bone)\n",
    "plt.subplot(144)\n",
    "plt.imshow(tmp_im, origin='lower', interpolation='nearest', cmap=plt.cm.copper)\n"
   ]
  },
  {
   "cell_type": "markdown",
   "metadata": {},
   "source": [
    "Also useful for setting colours for categorical data:"
   ]
  },
  {
   "cell_type": "code",
   "execution_count": 47,
   "metadata": {
    "collapsed": false
   },
   "outputs": [
    {
     "data": {
      "text/plain": [
       "<matplotlib.legend.Legend at 0x151d7b70>"
      ]
     },
     "execution_count": 47,
     "metadata": {},
     "output_type": "execute_result"
    },
    {
     "data": {
      "image/png": "[encoded data removed]",
      "text/plain": [
       "<matplotlib.figure.Figure at 0xee1eeb8>"
      ]
     },
     "metadata": {},
     "output_type": "display_data"
    }
   ],
   "source": [
    "x1 = np.random.randn(20)\n",
    "y1 = np.random.randn(20)\n",
    "\n",
    "x2 = np.random.randn(20)\n",
    "y2 = np.random.randn(20)\n",
    "\n",
    "x3 = np.random.randn(20)\n",
    "y3 = np.random.randn(20)\n",
    "\n",
    "plt.scatter(x1, y1, color=plt.cm.viridis(0), s=20, label='Data 1')\n",
    "plt.scatter(x2, y2, color=plt.cm.viridis(0.5), s=20, label='Data 2')\n",
    "plt.scatter(x3, y3, color=plt.cm.viridis(1.0), s=20, label='Data 3')\n",
    "plt.legend(frameon=False)"
   ]
  },
  {
   "cell_type": "markdown",
   "metadata": {},
   "source": [
    "## Useful tool: Converting Hex Colours to RGB"
   ]
  },
  {
   "cell_type": "code",
   "execution_count": 17,
   "metadata": {
    "collapsed": false
   },
   "outputs": [
    {
     "data": {
      "text/plain": [
       "(1.0, 1.0, 0.13333333333333333)"
      ]
     },
     "execution_count": 17,
     "metadata": {},
     "output_type": "execute_result"
    }
   ],
   "source": [
    "conv = matplotlib.colors.ColorConverter()\n",
    "conv.to_rgb('#ffff22')"
   ]
  },
  {
   "cell_type": "markdown",
   "metadata": {},
   "source": [
    "## Making a colour dictionary\n",
    "\n",
    "This is a dictionary with lists of tuples for 'red', 'blue', 'green', and optionally, 'alpha', for instance:\n",
    "\n",
    "```\n",
    "cdict = {'red':   [(0.0,  0.0, 0.0),\n",
    "                   (0.5,  1.0, 1.0),\n",
    "                   (1.0,  1.0, 1.0)],\n",
    "\n",
    "         'green': [(0.0,  0.0, 0.0),\n",
    "                   (0.25, 0.0, 0.0),\n",
    "                   (0.75, 1.0, 1.0),\n",
    "                   (1.0,  1.0, 1.0)],\n",
    "\n",
    "         'blue':  [(0.0,  0.0, 0.0),\n",
    "                   (0.5,  0.0, 0.0),\n",
    "                   (1.0,  1.0, 1.0)]}\n",
    "\n",
    "```"
   ]
  },
  {
   "cell_type": "code",
   "execution_count": 63,
   "metadata": {
    "collapsed": true
   },
   "outputs": [],
   "source": [
    "redarr = [\n",
    "    (0.0, 0, 1.0),\n",
    "    (0.5, 1.0, 0.0),\n",
    "    (1.0, 1.0, 1.0)\n",
    "]\n",
    "\n",
    "bluearr = [\n",
    "    (0.0, 1.0, 0.0),\n",
    "    (0.5, 1.0, 1.0),\n",
    "    (1.0, 1.0, 1.0)\n",
    "]\n",
    "\n",
    "greenarr = [\n",
    "    (0.0, 1.0, 1.0),\n",
    "    (0.5, 1.0, 1.0),\n",
    "    (1.0, 1.0, 1.0)\n",
    "]\n",
    "\n",
    "cdict1 = {'red':redarr, 'green':greenarr, 'blue':bluearr}"
   ]
  },
  {
   "cell_type": "markdown",
   "metadata": {},
   "source": [
    "## Turning your colour dictionary into a colour map:\n",
    "\n",
    "You can use the `matplotlib.colors.LinearSegmentedColormap` to turn this into a colour map object:"
   ]
  },
  {
   "cell_type": "code",
   "execution_count": 64,
   "metadata": {
    "collapsed": true
   },
   "outputs": [],
   "source": [
    "cmap1 = matplotlib.colors.LinearSegmentedColormap('MyColormap', cdict1, N=1E3)"
   ]
  },
  {
   "cell_type": "code",
   "execution_count": 65,
   "metadata": {
    "collapsed": false
   },
   "outputs": [
    {
     "data": {
      "text/plain": [
       "<matplotlib.image.AxesImage at 0x17988978>"
      ]
     },
     "execution_count": 65,
     "metadata": {},
     "output_type": "execute_result"
    },
    {
     "data": {
      "image/png": "[encoded data removed]",
      "text/plain": [
       "<matplotlib.figure.Figure at 0x178d1940>"
      ]
     },
     "metadata": {},
     "output_type": "display_data"
    }
   ],
   "source": [
    "plt.imshow(tmp_im, origin='lower', interpolation='nearest', cmap=cmap1)"
   ]
  },
  {
   "cell_type": "markdown",
   "metadata": {},
   "source": [
    "Can also add an alpha value:"
   ]
  },
  {
   "cell_type": "code",
   "execution_count": 66,
   "metadata": {
    "collapsed": true
   },
   "outputs": [],
   "source": [
    "alphaarr = [\n",
    "    (0.0, 0.0, 1.0),\n",
    "    (0.5, 0.0, 0.0),\n",
    "    (1.0, 1.0, 0.0),\n",
    "]\n",
    "\n",
    "cdict1['alpha'] = alphaarr\n",
    "\n",
    "cmap2 = matplotlib.colors.LinearSegmentedColormap('MyColormapWAlpha', cdict1, N=256)"
   ]
  },
  {
   "cell_type": "code",
   "execution_count": 73,
   "metadata": {
    "collapsed": false
   },
   "outputs": [
    {
     "data": {
      "text/plain": [
       "<matplotlib.image.AxesImage at 0x18f97dd8>"
      ]
     },
     "execution_count": 73,
     "metadata": {},
     "output_type": "execute_result"
    },
    {
     "data": {
      "image/png": "[encoded data removed]",
      "text/plain": [
       "<matplotlib.figure.Figure at 0x1925d780>"
      ]
     },
     "metadata": {},
     "output_type": "display_data"
    }
   ],
   "source": [
    "plt.figure(figsize=(10, 10))\n",
    "plt.scatter((x1 + 3)*100, (y1+3) * 100, c=y1, cmap=cmap2, s=80, zorder=1)\n",
    "plt.imshow(tmp_im, origin='lower', interpolation='nearest', cmap=cmap2, zorder=20)"
   ]
  },
  {
   "cell_type": "code",
   "execution_count": null,
   "metadata": {
    "collapsed": true
   },
   "outputs": [],
   "source": []
  }
 ],
 "metadata": {
  "kernelspec": {
   "display_name": "Python 2",
   "language": "python",
   "name": "python2"
  },
  "language_info": {
   "codemirror_mode": {
    "name": "ipython",
    "version": 2
   },
   "file_extension": ".py",
   "mimetype": "text/x-python",
   "name": "python",
   "nbconvert_exporter": "python",
   "pygments_lexer": "ipython2",
   "version": "2.7.10"
  }
 },
 "nbformat": 4,
 "nbformat_minor": 0
}
